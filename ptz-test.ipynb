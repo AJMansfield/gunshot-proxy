{
 "cells": [
  {
   "cell_type": "code",
   "execution_count": 68,
   "metadata": {},
   "outputs": [],
   "source": [
    "from bicom_packet import *\n",
    "from binascii import *\n",
    "import math\n",
    "from utils import *\n",
    "import serial \n",
    "from osrd_ptz import *\n",
    "import time\n",
    "import angles\n",
    "from rcp_ptz import *\n",
    "import numpy as np\n",
    "from numpy import array as a\n",
    "import scipy as sp\n",
    "import scipy.interpolate as spi"
   ]
  },
  {
   "cell_type": "code",
   "execution_count": 2,
   "metadata": {},
   "outputs": [],
   "source": [
    "conn = {\n",
    "    'url': 'http://10.0.2.5/rcp.xml',\n",
    "}\n",
    "limits = dotdict({\n",
    "    'az_off': 0,\n",
    "    'az_flip': False,\n",
    "    'el_off': 0,\n",
    "    'z_off': 0,\n",
    "})"
   ]
  },
  {
   "cell_type": "code",
   "execution_count": null,
   "metadata": {},
   "outputs": [],
   "source": [
    "ser = serial.Serial('COM23', 57600)\n",
    "ptz = OSRDPTZ(ser, 0, limits)"
   ]
  },
  {
   "cell_type": "code",
   "execution_count": 3,
   "metadata": {},
   "outputs": [],
   "source": [
    "ptz = RCPPTZ(conn, limits)"
   ]
  },
  {
   "cell_type": "code",
   "execution_count": 4,
   "metadata": {},
   "outputs": [
    {
     "name": "stdout",
     "output_type": "stream",
     "text": [
      "moving to 0\n",
      "moving to 60\n",
      "moving to 120\n",
      "moving to 180\n",
      "moving to 240\n",
      "moving to 300\n",
      "moving to 360\n"
     ]
    }
   ],
   "source": [
    "for i in range(0, 361, 60):\n",
    "    print(f'moving to {i}')\n",
    "    ptz.move(i, 0, None)\n",
    "    time.sleep(1)"
   ]
  },
  {
   "cell_type": "code",
   "execution_count": null,
   "metadata": {},
   "outputs": [],
   "source": [
    "ptz.move(180,60,None)"
   ]
  },
  {
   "cell_type": "code",
   "execution_count": null,
   "metadata": {},
   "outputs": [],
   "source": [
    "BiCom(bytes(ptz.move(0,0,None)))"
   ]
  },
  {
   "cell_type": "code",
   "execution_count": null,
   "metadata": {},
   "outputs": [],
   "source": [
    "bytes(pkt).hex()"
   ]
  },
  {
   "cell_type": "code",
   "execution_count": 94,
   "metadata": {},
   "outputs": [],
   "source": [
    "zmap = {}"
   ]
  },
  {
   "cell_type": "code",
   "execution_count": 95,
   "metadata": {},
   "outputs": [],
   "source": [
    "elz = a([(60, 0), (50, 20), (40, 40), (30, 60), (20, 80), (10, 100), (0, 120)], dtype=[('x', float), ('y', float)])\n",
    "elz.sort(axis=0, order='x')\n",
    "x, y = elz['x'], elz['y']\n",
    "f = spi.interp1d(x, y, bounds_error=False, fill_value=(y[0], None), assume_sorted=True)\n",
    "for num in [1, 2, 3, 4, 5, 6]:\n",
    "    zmap[f'Bosch{num}'] = f"
   ]
  },
  {
   "cell_type": "code",
   "execution_count": 96,
   "metadata": {},
   "outputs": [],
   "source": [
    "elz = a([(60, 0), (50, 10), (40, 20), (30, 30), (20, 40), (10, 50), (0, 40)], dtype=[('x', float), ('y', float)])\n",
    "elz.sort(axis=0, order='x')\n",
    "x, y = elz['x'], elz['y']\n",
    "f = spi.interp1d(x, y, bounds_error=False, fill_value=(y[0], None), assume_sorted=True)\n",
    "for num in [7, 8, 9, 14, 15]:\n",
    "    zmap[f'Bosch{num}'] = f"
   ]
  },
  {
   "cell_type": "code",
   "execution_count": 103,
   "metadata": {},
   "outputs": [],
   "source": [
    "f = np.vectorize(lambda x: np.NaN)\n",
    "for num in [10, 11, 12, 16, 17, 18]:\n",
    "    zmap[f'Bosch{num}'] = f"
   ]
  },
  {
   "cell_type": "code",
   "execution_count": 104,
   "metadata": {},
   "outputs": [
    {
     "data": {
      "text/plain": [
       "{'Bosch1': <scipy.interpolate.interpolate.interp1d at 0x2b3ac438b38>,\n",
       " 'Bosch2': <scipy.interpolate.interpolate.interp1d at 0x2b3ac438b38>,\n",
       " 'Bosch3': <scipy.interpolate.interpolate.interp1d at 0x2b3ac438b38>,\n",
       " 'Bosch4': <scipy.interpolate.interpolate.interp1d at 0x2b3ac438b38>,\n",
       " 'Bosch5': <scipy.interpolate.interpolate.interp1d at 0x2b3ac438b38>,\n",
       " 'Bosch6': <scipy.interpolate.interpolate.interp1d at 0x2b3ac438b38>,\n",
       " 'Bosch7': <scipy.interpolate.interpolate.interp1d at 0x2b3ac438a98>,\n",
       " 'Bosch8': <scipy.interpolate.interpolate.interp1d at 0x2b3ac438a98>,\n",
       " 'Bosch9': <scipy.interpolate.interpolate.interp1d at 0x2b3ac438a98>,\n",
       " 'Bosch14': <scipy.interpolate.interpolate.interp1d at 0x2b3ac438a98>,\n",
       " 'Bosch15': <scipy.interpolate.interpolate.interp1d at 0x2b3ac438a98>,\n",
       " 'Bosch10': <numpy.lib.function_base.vectorize at 0x2b3b10b43c8>,\n",
       " 'Bosch11': <numpy.lib.function_base.vectorize at 0x2b3b10b43c8>,\n",
       " 'Bosch12': <numpy.lib.function_base.vectorize at 0x2b3b10b43c8>,\n",
       " 'Bosch16': <numpy.lib.function_base.vectorize at 0x2b3b10b43c8>,\n",
       " 'Bosch17': <numpy.lib.function_base.vectorize at 0x2b3b10b43c8>,\n",
       " 'Bosch18': <numpy.lib.function_base.vectorize at 0x2b3b10b43c8>}"
      ]
     },
     "execution_count": 104,
     "metadata": {},
     "output_type": "execute_result"
    }
   ],
   "source": [
    "zmap"
   ]
  },
  {
   "cell_type": "code",
   "execution_count": 106,
   "metadata": {},
   "outputs": [
    {
     "data": {
      "text/plain": [
       "array(nan)"
      ]
     },
     "execution_count": 106,
     "metadata": {},
     "output_type": "execute_result"
    }
   ],
   "source": [
    "zmap['Bosch16'](2)"
   ]
  },
  {
   "cell_type": "code",
   "execution_count": 32,
   "metadata": {},
   "outputs": [
    {
     "data": {
      "text/plain": [
       "27.4"
      ]
     },
     "execution_count": 32,
     "metadata": {},
     "output_type": "execute_result"
    }
   ],
   "source": [
    "elz = a([[60, 0], [50, 10], [40, 20], [30, 30], [20, 40], [10, 50], [0, 40]])\n",
    "elz.sort(axis=0)\n",
    "f = lambda el: np.interp(el, elz[:,0], elz[:,1], right=None)\n",
    "for num in [1, 2, 3, 4, 5, 6]:\n",
    "    zmap[f'Bosch{num}'] = f"
   ]
  },
  {
   "cell_type": "code",
   "execution_count": 88,
   "metadata": {},
   "outputs": [
    {
     "data": {
      "text/plain": [
       "array(120.)"
      ]
     },
     "execution_count": 88,
     "metadata": {},
     "output_type": "execute_result"
    }
   ],
   "source": [
    "f(-1)"
   ]
  },
  {
   "cell_type": "code",
   "execution_count": 111,
   "metadata": {},
   "outputs": [
    {
     "ename": "ValueError",
     "evalue": "cannot convert float NaN to integer",
     "output_type": "error",
     "traceback": [
      "\u001b[1;31m---------------------------------------------------------------------------\u001b[0m",
      "\u001b[1;31mValueError\u001b[0m                                Traceback (most recent call last)",
      "\u001b[1;32m<ipython-input-111-4e0d9e172b73>\u001b[0m in \u001b[0;36m<module>\u001b[1;34m\u001b[0m\n\u001b[1;32m----> 1\u001b[1;33m \u001b[0mround\u001b[0m\u001b[1;33m(\u001b[0m\u001b[0mfloat\u001b[0m\u001b[1;33m(\u001b[0m\u001b[0mzmap\u001b[0m\u001b[1;33m[\u001b[0m\u001b[1;34m'Bosch16'\u001b[0m\u001b[1;33m]\u001b[0m\u001b[1;33m(\u001b[0m\u001b[1;36m2\u001b[0m\u001b[1;33m)\u001b[0m\u001b[1;33m)\u001b[0m\u001b[1;33m)\u001b[0m\u001b[1;33m\u001b[0m\u001b[1;33m\u001b[0m\u001b[0m\n\u001b[0m",
      "\u001b[1;31mValueError\u001b[0m: cannot convert float NaN to integer"
     ]
    }
   ],
   "source": [
    "round(float(zmap['Bosch16'](2)))"
   ]
  },
  {
   "cell_type": "code",
   "execution_count": null,
   "metadata": {},
   "outputs": [],
   "source": []
  }
 ],
 "metadata": {
  "kernelspec": {
   "display_name": "Python 3",
   "language": "python",
   "name": "python3"
  },
  "language_info": {
   "codemirror_mode": {
    "name": "ipython",
    "version": 3
   },
   "file_extension": ".py",
   "mimetype": "text/x-python",
   "name": "python",
   "nbconvert_exporter": "python",
   "pygments_lexer": "ipython3",
   "version": "3.6.7"
  }
 },
 "nbformat": 4,
 "nbformat_minor": 2
}
